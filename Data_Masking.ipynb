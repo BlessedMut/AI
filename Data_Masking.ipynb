{
  "nbformat": 4,
  "nbformat_minor": 5,
  "metadata": {
    "kernelspec": {
      "display_name": "Python 3",
      "language": "python",
      "name": "python3"
    },
    "language_info": {
      "codemirror_mode": {
        "name": "ipython",
        "version": 3
      },
      "file_extension": ".py",
      "mimetype": "text/x-python",
      "name": "python",
      "nbconvert_exporter": "python",
      "pygments_lexer": "ipython3",
      "version": "3.8.2"
    },
    "colab": {
      "name": "Data_Masking.ipynb",
      "provenance": [],
      "include_colab_link": true
    }
  },
  "cells": [
    {
      "cell_type": "markdown",
      "metadata": {
        "id": "view-in-github",
        "colab_type": "text"
      },
      "source": [
        "<a href=\"https://colab.research.google.com/github/BlessedMut/AI/blob/master/Data_Masking.ipynb\" target=\"_parent\"><img src=\"https://colab.research.google.com/assets/colab-badge.svg\" alt=\"Open In Colab\"/></a>"
      ]
    },
    {
      "cell_type": "code",
      "metadata": {
        "id": "Z615VND2w2fG"
      },
      "source": [
        "# !pip install cape-privacy"
      ],
      "id": "Z615VND2w2fG",
      "execution_count": 1,
      "outputs": []
    },
    {
      "cell_type": "code",
      "metadata": {
        "colab": {
          "base_uri": "https://localhost:8080/"
        },
        "id": "Qq6FRkkbw5hw",
        "outputId": "d27ecd22-d3a1-404a-c6c7-8738b46efd29"
      },
      "source": [
        "from google.colab import drive\n",
        "drive.mount('/content/drive')"
      ],
      "id": "Qq6FRkkbw5hw",
      "execution_count": 2,
      "outputs": [
        {
          "output_type": "stream",
          "name": "stdout",
          "text": [
            "Drive already mounted at /content/drive; to attempt to forcibly remount, call drive.mount(\"/content/drive\", force_remount=True).\n"
          ]
        }
      ]
    },
    {
      "cell_type": "markdown",
      "metadata": {
        "id": "60d976b9"
      },
      "source": [
        "# Cape Python: \n",
        "## Apply Privacy-Enhancing Techniques to Protect Sensitive Data in Pandas and Spark\n",
        "\n",
        "<p>Cape Python offers several masking techniques to help you obfuscate sensitive data involved in internal data science and machine learning projects. We consider these techniques to be a first step in your privacy journey. We tried to make them as simple as possible so you can quickly start experimenting and thinking about how to make your projects more privacy-preserving. We built this library with the following objectives in mind:</p>\n",
        "\n",
        "- __Accessible__: these techniques should be very easy to understand and apply at scale with popular data science libraries, such as Pandas and Spark.\n",
        "\n",
        "- __Collaborative__: data science, machine learning, governance and security teams should be able to collaborate effectively to define and edit data privacy policy through human-readable policy files.\n",
        "\n",
        "- __Transparent__: At any point, it should be possible to validate which privacy techniques have been applied to which dataset for which task."
      ],
      "id": "60d976b9"
    },
    {
      "cell_type": "markdown",
      "metadata": {
        "id": "70429423"
      },
      "source": [
        "## What are Cape Python’s masking techniques?\n",
        "\n",
        "Cape Python offers several masking techniques to obfuscate identifiers [(de-identification process)](https://en.wikipedia.org/wiki/De-identification#:~:text=De-identification%20is%20the%20process,the%20privacy%20of%20research%20participants.) and sensitive information, included in the dataset. The appropriate method to use depends on the data type (string, numeric, date, etc.), the accuracy you need to maintain, and the type of identifiers:\n",
        "\n",
        "- __Direct identifiers__: information that relates specifically to an individual. For example: name, address, social security number, etc.\n",
        "- __Indirect identifiers / quasi identifiers__: Information that can be combined with other information to potentially identify a specific individual. For example: city, zip code, income, etc. As a concrete example, [Latanya Sweeney’s work](http://latanyasweeney.org/work/identifiability.html) demonstrated that “87% of the U.S. population are uniquely identified by date of birth, gender and zip code”."
      ],
      "id": "70429423"
    },
    {
      "cell_type": "markdown",
      "metadata": {
        "id": "b4fe0c8c"
      },
      "source": [
        "As an example, we will experiment with the public [German credit card dataset](https://archive.ics.uci.edu/ml/datasets/statlog+(german+credit+data)). We just added some fake PII information (such as name, address, etc.) and quasi-identifiers to make it more similar to a real dataset for which we would use these techniques.\n",
        "\n",
        "##### Link to dataset : [download from here](https://data.world/sparklesquad/crm-dataset)\n",
        "\n",
        "We won’t know for e.g. the city name, however, we can still assess the predictive power of this variable if it is included in the model.\n"
      ],
      "id": "b4fe0c8c"
    },
    {
      "cell_type": "code",
      "metadata": {
        "id": "e5d1c7ef"
      },
      "source": [
        "import pandas as pd\n",
        "\n",
        "from cape_privacy.pandas import dtypes\n",
        "from cape_privacy.pandas import transformations as tfms\n",
        "from cape_privacy.pandas.transformations import Tokenizer, DatePerturbation, NumericRounding, ColumnRedact\n",
        "\n",
        "df = pd.read_csv('/content/drive/MyDrive/Utande/data/sales-pipeline.csv')"
      ],
      "id": "e5d1c7ef",
      "execution_count": 3,
      "outputs": []
    },
    {
      "cell_type": "code",
      "metadata": {
        "id": "5a19454f"
      },
      "source": [
        "tokenize_strings = Tokenizer(max_token_len=10)\n",
        "perturb_date = DatePerturbation(frequency=(\"DAY\"), min=(-3), max=(3))\n",
        "round_close_value = NumericRounding(dtype=dtypes.Float, precision=-3)\n",
        "redact_product_deal = ColumnRedact(columns=[\"Deal_Stage\"])"
      ],
      "id": "5a19454f",
      "execution_count": 4,
      "outputs": []
    },
    {
      "cell_type": "code",
      "metadata": {
        "id": "72251ef5"
      },
      "source": [
        "df.dropna(inplace=True)"
      ],
      "id": "72251ef5",
      "execution_count": 5,
      "outputs": []
    },
    {
      "cell_type": "code",
      "metadata": {
        "id": "104baab3"
      },
      "source": [
        "# new_data = df.to_csv('data/new_data.csv', index=False)"
      ],
      "id": "104baab3",
      "execution_count": 6,
      "outputs": []
    },
    {
      "cell_type": "code",
      "metadata": {
        "colab": {
          "base_uri": "https://localhost:8080/",
          "height": 204
        },
        "id": "3e7702de",
        "outputId": "9833ca73-78c8-4f9e-ed82-b4bbb9a523bb"
      },
      "source": [
        "df.head()"
      ],
      "id": "3e7702de",
      "execution_count": 7,
      "outputs": [
        {
          "output_type": "execute_result",
          "data": {
            "text/html": [
              "<div>\n",
              "<style scoped>\n",
              "    .dataframe tbody tr th:only-of-type {\n",
              "        vertical-align: middle;\n",
              "    }\n",
              "\n",
              "    .dataframe tbody tr th {\n",
              "        vertical-align: top;\n",
              "    }\n",
              "\n",
              "    .dataframe thead th {\n",
              "        text-align: right;\n",
              "    }\n",
              "</style>\n",
              "<table border=\"1\" class=\"dataframe\">\n",
              "  <thead>\n",
              "    <tr style=\"text-align: right;\">\n",
              "      <th></th>\n",
              "      <th>Account</th>\n",
              "      <th>Opportunity_ID</th>\n",
              "      <th>Sales_Agent</th>\n",
              "      <th>Deal_Stage</th>\n",
              "      <th>Product</th>\n",
              "      <th>Close_Date</th>\n",
              "      <th>Close_Value</th>\n",
              "      <th>Created_On</th>\n",
              "    </tr>\n",
              "  </thead>\n",
              "  <tbody>\n",
              "    <tr>\n",
              "      <th>0</th>\n",
              "      <td>Sunnamplex</td>\n",
              "      <td>67HY0MW7</td>\n",
              "      <td>Donn Cantrell</td>\n",
              "      <td>Won</td>\n",
              "      <td>GTXBasic</td>\n",
              "      <td>2017-05-06</td>\n",
              "      <td>500.0</td>\n",
              "      <td>2017-04-24</td>\n",
              "    </tr>\n",
              "    <tr>\n",
              "      <th>3</th>\n",
              "      <td>Silis</td>\n",
              "      <td>R22O68FF</td>\n",
              "      <td>Niesha Huffines</td>\n",
              "      <td>Won</td>\n",
              "      <td>GTXBasic</td>\n",
              "      <td>2017-06-27</td>\n",
              "      <td>524.0</td>\n",
              "      <td>2017-03-21</td>\n",
              "    </tr>\n",
              "    <tr>\n",
              "      <th>4</th>\n",
              "      <td>Silis</td>\n",
              "      <td>J78AK31N</td>\n",
              "      <td>Kami Bicknell</td>\n",
              "      <td>Won</td>\n",
              "      <td>MGRPFU</td>\n",
              "      <td>2017-08-04</td>\n",
              "      <td>4794.0</td>\n",
              "      <td>2017-05-15</td>\n",
              "    </tr>\n",
              "    <tr>\n",
              "      <th>5</th>\n",
              "      <td>Groovestreet</td>\n",
              "      <td>8I9PRPGN</td>\n",
              "      <td>Versie Hillebrand</td>\n",
              "      <td>Won</td>\n",
              "      <td>MGRPFS</td>\n",
              "      <td>2017-05-27</td>\n",
              "      <td>67.0</td>\n",
              "      <td>2017-04-16</td>\n",
              "    </tr>\n",
              "    <tr>\n",
              "      <th>6</th>\n",
              "      <td>Donware</td>\n",
              "      <td>4VHUTHOJ</td>\n",
              "      <td>Kami Bicknell</td>\n",
              "      <td>Won</td>\n",
              "      <td>GTXPlusBasic</td>\n",
              "      <td>2017-11-12</td>\n",
              "      <td>1480.0</td>\n",
              "      <td>2017-11-11</td>\n",
              "    </tr>\n",
              "  </tbody>\n",
              "</table>\n",
              "</div>"
            ],
            "text/plain": [
              "        Account Opportunity_ID  ... Close_Value  Created_On\n",
              "0    Sunnamplex       67HY0MW7  ...       500.0  2017-04-24\n",
              "3         Silis       R22O68FF  ...       524.0  2017-03-21\n",
              "4         Silis       J78AK31N  ...      4794.0  2017-05-15\n",
              "5  Groovestreet       8I9PRPGN  ...        67.0  2017-04-16\n",
              "6       Donware       4VHUTHOJ  ...      1480.0  2017-11-11\n",
              "\n",
              "[5 rows x 8 columns]"
            ]
          },
          "metadata": {},
          "execution_count": 7
        }
      ]
    },
    {
      "cell_type": "code",
      "metadata": {
        "colab": {
          "base_uri": "https://localhost:8080/"
        },
        "id": "65eeaf4f",
        "outputId": "552876ea-01d2-4325-d83e-7213ec6c0318"
      },
      "source": [
        "df.dtypes"
      ],
      "id": "65eeaf4f",
      "execution_count": 8,
      "outputs": [
        {
          "output_type": "execute_result",
          "data": {
            "text/plain": [
              "Account            object\n",
              "Opportunity_ID     object\n",
              "Sales_Agent        object\n",
              "Deal_Stage         object\n",
              "Product            object\n",
              "Close_Date         object\n",
              "Close_Value       float64\n",
              "Created_On         object\n",
              "dtype: object"
            ]
          },
          "metadata": {},
          "execution_count": 8
        }
      ]
    },
    {
      "cell_type": "code",
      "metadata": {
        "id": "13d20b50"
      },
      "source": [
        "df.Close_Date = pd.to_datetime(df.Close_Date)\n",
        "df.Created_On = pd.to_datetime(df.Created_On)"
      ],
      "id": "13d20b50",
      "execution_count": 9,
      "outputs": []
    },
    {
      "cell_type": "code",
      "metadata": {
        "id": "09aad951"
      },
      "source": [
        "def mask(df):\n",
        "    df['Account'] = tokenize_strings(df['Account'])\n",
        "    df['Opportunity_ID'] = tokenize_strings(df['Opportunity_ID'])\n",
        "    df['Close_Date'] = perturb_date(df['Close_Date'])\n",
        "    df['Created_On'] = perturb_date(df['Created_On'])\n",
        "    df['Close_Value'] = round_close_value(df['Close_Value'])\n",
        "    df = redact_product_deal(df)\n",
        "    return df"
      ],
      "id": "09aad951",
      "execution_count": 10,
      "outputs": []
    },
    {
      "cell_type": "code",
      "metadata": {
        "id": "6e56f520"
      },
      "source": [
        "caped_df = mask(df)"
      ],
      "id": "6e56f520",
      "execution_count": 11,
      "outputs": []
    },
    {
      "cell_type": "code",
      "metadata": {
        "colab": {
          "base_uri": "https://localhost:8080/",
          "height": 204
        },
        "id": "5649783e",
        "outputId": "46a90e52-e1c3-401d-9e62-5472320a8130"
      },
      "source": [
        "caped_df.head()"
      ],
      "id": "5649783e",
      "execution_count": 12,
      "outputs": [
        {
          "output_type": "execute_result",
          "data": {
            "text/html": [
              "<div>\n",
              "<style scoped>\n",
              "    .dataframe tbody tr th:only-of-type {\n",
              "        vertical-align: middle;\n",
              "    }\n",
              "\n",
              "    .dataframe tbody tr th {\n",
              "        vertical-align: top;\n",
              "    }\n",
              "\n",
              "    .dataframe thead th {\n",
              "        text-align: right;\n",
              "    }\n",
              "</style>\n",
              "<table border=\"1\" class=\"dataframe\">\n",
              "  <thead>\n",
              "    <tr style=\"text-align: right;\">\n",
              "      <th></th>\n",
              "      <th>Account</th>\n",
              "      <th>Opportunity_ID</th>\n",
              "      <th>Sales_Agent</th>\n",
              "      <th>Product</th>\n",
              "      <th>Close_Date</th>\n",
              "      <th>Close_Value</th>\n",
              "      <th>Created_On</th>\n",
              "    </tr>\n",
              "  </thead>\n",
              "  <tbody>\n",
              "    <tr>\n",
              "      <th>0</th>\n",
              "      <td>d14b92fcb4</td>\n",
              "      <td>df02ddffd3</td>\n",
              "      <td>Donn Cantrell</td>\n",
              "      <td>GTXBasic</td>\n",
              "      <td>2017-05-06</td>\n",
              "      <td>0.0</td>\n",
              "      <td>2017-04-25</td>\n",
              "    </tr>\n",
              "    <tr>\n",
              "      <th>3</th>\n",
              "      <td>6dc8265305</td>\n",
              "      <td>492d7e2bcd</td>\n",
              "      <td>Niesha Huffines</td>\n",
              "      <td>GTXBasic</td>\n",
              "      <td>2017-06-29</td>\n",
              "      <td>1000.0</td>\n",
              "      <td>2017-03-21</td>\n",
              "    </tr>\n",
              "    <tr>\n",
              "      <th>4</th>\n",
              "      <td>6dc8265305</td>\n",
              "      <td>2ba03a10c3</td>\n",
              "      <td>Kami Bicknell</td>\n",
              "      <td>MGRPFU</td>\n",
              "      <td>2017-08-05</td>\n",
              "      <td>5000.0</td>\n",
              "      <td>2017-05-12</td>\n",
              "    </tr>\n",
              "    <tr>\n",
              "      <th>5</th>\n",
              "      <td>70c4dbe27c</td>\n",
              "      <td>5bf1023f83</td>\n",
              "      <td>Versie Hillebrand</td>\n",
              "      <td>MGRPFS</td>\n",
              "      <td>2017-05-26</td>\n",
              "      <td>0.0</td>\n",
              "      <td>2017-04-13</td>\n",
              "    </tr>\n",
              "    <tr>\n",
              "      <th>6</th>\n",
              "      <td>571be6992b</td>\n",
              "      <td>976428a94c</td>\n",
              "      <td>Kami Bicknell</td>\n",
              "      <td>GTXPlusBasic</td>\n",
              "      <td>2017-11-14</td>\n",
              "      <td>1000.0</td>\n",
              "      <td>2017-11-13</td>\n",
              "    </tr>\n",
              "  </tbody>\n",
              "</table>\n",
              "</div>"
            ],
            "text/plain": [
              "      Account Opportunity_ID  ... Close_Value Created_On\n",
              "0  d14b92fcb4     df02ddffd3  ...         0.0 2017-04-25\n",
              "3  6dc8265305     492d7e2bcd  ...      1000.0 2017-03-21\n",
              "4  6dc8265305     2ba03a10c3  ...      5000.0 2017-05-12\n",
              "5  70c4dbe27c     5bf1023f83  ...         0.0 2017-04-13\n",
              "6  571be6992b     976428a94c  ...      1000.0 2017-11-13\n",
              "\n",
              "[5 rows x 7 columns]"
            ]
          },
          "metadata": {},
          "execution_count": 12
        }
      ]
    },
    {
      "cell_type": "code",
      "metadata": {
        "colab": {
          "base_uri": "https://localhost:8080/",
          "height": 204
        },
        "id": "be1fae4b",
        "outputId": "afadfd5f-a94c-4d28-cf17-376f7de92e2c"
      },
      "source": [
        "df.head()"
      ],
      "id": "be1fae4b",
      "execution_count": 13,
      "outputs": [
        {
          "output_type": "execute_result",
          "data": {
            "text/html": [
              "<div>\n",
              "<style scoped>\n",
              "    .dataframe tbody tr th:only-of-type {\n",
              "        vertical-align: middle;\n",
              "    }\n",
              "\n",
              "    .dataframe tbody tr th {\n",
              "        vertical-align: top;\n",
              "    }\n",
              "\n",
              "    .dataframe thead th {\n",
              "        text-align: right;\n",
              "    }\n",
              "</style>\n",
              "<table border=\"1\" class=\"dataframe\">\n",
              "  <thead>\n",
              "    <tr style=\"text-align: right;\">\n",
              "      <th></th>\n",
              "      <th>Account</th>\n",
              "      <th>Opportunity_ID</th>\n",
              "      <th>Sales_Agent</th>\n",
              "      <th>Deal_Stage</th>\n",
              "      <th>Product</th>\n",
              "      <th>Close_Date</th>\n",
              "      <th>Close_Value</th>\n",
              "      <th>Created_On</th>\n",
              "    </tr>\n",
              "  </thead>\n",
              "  <tbody>\n",
              "    <tr>\n",
              "      <th>0</th>\n",
              "      <td>d14b92fcb4</td>\n",
              "      <td>df02ddffd3</td>\n",
              "      <td>Donn Cantrell</td>\n",
              "      <td>Won</td>\n",
              "      <td>GTXBasic</td>\n",
              "      <td>2017-05-06</td>\n",
              "      <td>0.0</td>\n",
              "      <td>2017-04-25</td>\n",
              "    </tr>\n",
              "    <tr>\n",
              "      <th>3</th>\n",
              "      <td>6dc8265305</td>\n",
              "      <td>492d7e2bcd</td>\n",
              "      <td>Niesha Huffines</td>\n",
              "      <td>Won</td>\n",
              "      <td>GTXBasic</td>\n",
              "      <td>2017-06-29</td>\n",
              "      <td>1000.0</td>\n",
              "      <td>2017-03-21</td>\n",
              "    </tr>\n",
              "    <tr>\n",
              "      <th>4</th>\n",
              "      <td>6dc8265305</td>\n",
              "      <td>2ba03a10c3</td>\n",
              "      <td>Kami Bicknell</td>\n",
              "      <td>Won</td>\n",
              "      <td>MGRPFU</td>\n",
              "      <td>2017-08-05</td>\n",
              "      <td>5000.0</td>\n",
              "      <td>2017-05-12</td>\n",
              "    </tr>\n",
              "    <tr>\n",
              "      <th>5</th>\n",
              "      <td>70c4dbe27c</td>\n",
              "      <td>5bf1023f83</td>\n",
              "      <td>Versie Hillebrand</td>\n",
              "      <td>Won</td>\n",
              "      <td>MGRPFS</td>\n",
              "      <td>2017-05-26</td>\n",
              "      <td>0.0</td>\n",
              "      <td>2017-04-13</td>\n",
              "    </tr>\n",
              "    <tr>\n",
              "      <th>6</th>\n",
              "      <td>571be6992b</td>\n",
              "      <td>976428a94c</td>\n",
              "      <td>Kami Bicknell</td>\n",
              "      <td>Won</td>\n",
              "      <td>GTXPlusBasic</td>\n",
              "      <td>2017-11-14</td>\n",
              "      <td>1000.0</td>\n",
              "      <td>2017-11-13</td>\n",
              "    </tr>\n",
              "  </tbody>\n",
              "</table>\n",
              "</div>"
            ],
            "text/plain": [
              "      Account Opportunity_ID  ... Close_Value Created_On\n",
              "0  d14b92fcb4     df02ddffd3  ...         0.0 2017-04-25\n",
              "3  6dc8265305     492d7e2bcd  ...      1000.0 2017-03-21\n",
              "4  6dc8265305     2ba03a10c3  ...      5000.0 2017-05-12\n",
              "5  70c4dbe27c     5bf1023f83  ...         0.0 2017-04-13\n",
              "6  571be6992b     976428a94c  ...      1000.0 2017-11-13\n",
              "\n",
              "[5 rows x 8 columns]"
            ]
          },
          "metadata": {},
          "execution_count": 13
        }
      ]
    },
    {
      "cell_type": "code",
      "metadata": {
        "id": "94bf2a55"
      },
      "source": [
        "import seaborn as sns\n",
        "import matplotlib.pyplot as plt"
      ],
      "id": "94bf2a55",
      "execution_count": 14,
      "outputs": []
    },
    {
      "cell_type": "code",
      "metadata": {
        "colab": {
          "base_uri": "https://localhost:8080/",
          "height": 280
        },
        "id": "7359790b",
        "outputId": "2e2e7874-e5bc-4d50-b0a3-c37eb6cbc767"
      },
      "source": [
        "sns.histplot(df.Close_Date)\n",
        "plt.show()"
      ],
      "id": "7359790b",
      "execution_count": 15,
      "outputs": [
        {
          "output_type": "display_data",
          "data": {
            "image/png": "[encoded data removed]",
            "text/plain": [
              "<Figure size 432x288 with 1 Axes>"
            ]
          },
          "metadata": {
            "needs_background": "light"
          }
        }
      ]
    },
    {
      "cell_type": "code",
      "metadata": {
        "colab": {
          "base_uri": "https://localhost:8080/",
          "height": 280
        },
        "id": "6bd8d510",
        "outputId": "1e1dea4b-4b11-46a2-eab5-217b3be8e059"
      },
      "source": [
        "sns.histplot(caped_df.Close_Date)\n",
        "plt.show()"
      ],
      "id": "6bd8d510",
      "execution_count": 16,
      "outputs": [
        {
          "output_type": "display_data",
          "data": {
            "image/png": "[encoded data removed]",
            "text/plain": [
              "<Figure size 432x288 with 1 Axes>"
            ]
          },
          "metadata": {
            "needs_background": "light"
          }
        }
      ]
    },
    {
      "cell_type": "code",
      "metadata": {
        "id": "aa0fe733"
      },
      "source": [
        "import cape_privacy as cape"
      ],
      "id": "aa0fe733",
      "execution_count": 17,
      "outputs": []
    },
    {
      "cell_type": "code",
      "metadata": {
        "colab": {
          "base_uri": "https://localhost:8080/",
          "height": 359
        },
        "id": "8948e004",
        "outputId": "9a94666d-99cb-41e2-b3ce-c40917aaa0bd"
      },
      "source": [
        "policy = cape.parse_policy(\"/content/drive/MyDrive/Utande/config/crm_data.yaml\")\n",
        "masked_df = cape.apply_policy(policy, df)\n",
        "masked_df.head(10)"
      ],
      "id": "8948e004",
      "execution_count": 19,
      "outputs": [
        {
          "output_type": "execute_result",
          "data": {
            "text/html": [
              "<div>\n",
              "<style scoped>\n",
              "    .dataframe tbody tr th:only-of-type {\n",
              "        vertical-align: middle;\n",
              "    }\n",
              "\n",
              "    .dataframe tbody tr th {\n",
              "        vertical-align: top;\n",
              "    }\n",
              "\n",
              "    .dataframe thead th {\n",
              "        text-align: right;\n",
              "    }\n",
              "</style>\n",
              "<table border=\"1\" class=\"dataframe\">\n",
              "  <thead>\n",
              "    <tr style=\"text-align: right;\">\n",
              "      <th></th>\n",
              "      <th>Account</th>\n",
              "      <th>Opportunity_ID</th>\n",
              "      <th>Sales_Agent</th>\n",
              "      <th>Product</th>\n",
              "      <th>Close_Date</th>\n",
              "      <th>Close_Value</th>\n",
              "      <th>Created_On</th>\n",
              "    </tr>\n",
              "  </thead>\n",
              "  <tbody>\n",
              "    <tr>\n",
              "      <th>0</th>\n",
              "      <td>ee0d64d80e</td>\n",
              "      <td>4c352f477f</td>\n",
              "      <td>Donn Cantrell</td>\n",
              "      <td>GTXBasic</td>\n",
              "      <td>2017-05-04</td>\n",
              "      <td>0.0</td>\n",
              "      <td>2017-04-22</td>\n",
              "    </tr>\n",
              "    <tr>\n",
              "      <th>3</th>\n",
              "      <td>0c92feefa1</td>\n",
              "      <td>815d602ca1</td>\n",
              "      <td>Niesha Huffines</td>\n",
              "      <td>GTXBasic</td>\n",
              "      <td>2017-06-26</td>\n",
              "      <td>1000.0</td>\n",
              "      <td>2017-03-18</td>\n",
              "    </tr>\n",
              "    <tr>\n",
              "      <th>4</th>\n",
              "      <td>0c92feefa1</td>\n",
              "      <td>e2a50ce01c</td>\n",
              "      <td>Kami Bicknell</td>\n",
              "      <td>MGRPFU</td>\n",
              "      <td>2017-08-05</td>\n",
              "      <td>5000.0</td>\n",
              "      <td>2017-05-14</td>\n",
              "    </tr>\n",
              "    <tr>\n",
              "      <th>5</th>\n",
              "      <td>e6337bc252</td>\n",
              "      <td>14758c22f8</td>\n",
              "      <td>Versie Hillebrand</td>\n",
              "      <td>MGRPFS</td>\n",
              "      <td>2017-05-23</td>\n",
              "      <td>0.0</td>\n",
              "      <td>2017-04-11</td>\n",
              "    </tr>\n",
              "    <tr>\n",
              "      <th>6</th>\n",
              "      <td>545e64fd99</td>\n",
              "      <td>9010d53bff</td>\n",
              "      <td>Kami Bicknell</td>\n",
              "      <td>GTXPlusBasic</td>\n",
              "      <td>2017-11-12</td>\n",
              "      <td>1000.0</td>\n",
              "      <td>2017-11-11</td>\n",
              "    </tr>\n",
              "    <tr>\n",
              "      <th>7</th>\n",
              "      <td>24a792b859</td>\n",
              "      <td>9d26945535</td>\n",
              "      <td>Kary Hendrixson</td>\n",
              "      <td>GTXBasic</td>\n",
              "      <td>2017-07-09</td>\n",
              "      <td>1000.0</td>\n",
              "      <td>2017-06-26</td>\n",
              "    </tr>\n",
              "    <tr>\n",
              "      <th>10</th>\n",
              "      <td>6d72e8842d</td>\n",
              "      <td>1f286fbe42</td>\n",
              "      <td>Anna Snelling</td>\n",
              "      <td>MGRPFU</td>\n",
              "      <td>2017-10-23</td>\n",
              "      <td>4000.0</td>\n",
              "      <td>2017-07-17</td>\n",
              "    </tr>\n",
              "    <tr>\n",
              "      <th>11</th>\n",
              "      <td>7d02fb118b</td>\n",
              "      <td>f30052b5f1</td>\n",
              "      <td>Kary Hendrixson</td>\n",
              "      <td>GTXPlusPro</td>\n",
              "      <td>2017-10-07</td>\n",
              "      <td>5000.0</td>\n",
              "      <td>2017-08-09</td>\n",
              "    </tr>\n",
              "    <tr>\n",
              "      <th>13</th>\n",
              "      <td>068ef9375c</td>\n",
              "      <td>03181df1df</td>\n",
              "      <td>Kary Hendrixson</td>\n",
              "      <td>GTXPro</td>\n",
              "      <td>2017-05-05</td>\n",
              "      <td>5000.0</td>\n",
              "      <td>2017-01-30</td>\n",
              "    </tr>\n",
              "    <tr>\n",
              "      <th>14</th>\n",
              "      <td>e308919bcf</td>\n",
              "      <td>3b58197f4d</td>\n",
              "      <td>James Ascencio</td>\n",
              "      <td>GTXPlusBasic</td>\n",
              "      <td>2017-06-24</td>\n",
              "      <td>1000.0</td>\n",
              "      <td>2017-04-26</td>\n",
              "    </tr>\n",
              "  </tbody>\n",
              "</table>\n",
              "</div>"
            ],
            "text/plain": [
              "       Account Opportunity_ID  ... Close_Value Created_On\n",
              "0   ee0d64d80e     4c352f477f  ...         0.0 2017-04-22\n",
              "3   0c92feefa1     815d602ca1  ...      1000.0 2017-03-18\n",
              "4   0c92feefa1     e2a50ce01c  ...      5000.0 2017-05-14\n",
              "5   e6337bc252     14758c22f8  ...         0.0 2017-04-11\n",
              "6   545e64fd99     9010d53bff  ...      1000.0 2017-11-11\n",
              "7   24a792b859     9d26945535  ...      1000.0 2017-06-26\n",
              "10  6d72e8842d     1f286fbe42  ...      4000.0 2017-07-17\n",
              "11  7d02fb118b     f30052b5f1  ...      5000.0 2017-08-09\n",
              "13  068ef9375c     03181df1df  ...      5000.0 2017-01-30\n",
              "14  e308919bcf     3b58197f4d  ...      1000.0 2017-04-26\n",
              "\n",
              "[10 rows x 7 columns]"
            ]
          },
          "metadata": {},
          "execution_count": 19
        }
      ]
    },
    {
      "cell_type": "code",
      "metadata": {
        "colab": {
          "base_uri": "https://localhost:8080/",
          "height": 359
        },
        "id": "ee18083f",
        "outputId": "58f2d2d1-2ada-4b07-a7ec-8461db3a0fd3"
      },
      "source": [
        "caped_df.head(10)"
      ],
      "id": "ee18083f",
      "execution_count": 20,
      "outputs": [
        {
          "output_type": "execute_result",
          "data": {
            "text/html": [
              "<div>\n",
              "<style scoped>\n",
              "    .dataframe tbody tr th:only-of-type {\n",
              "        vertical-align: middle;\n",
              "    }\n",
              "\n",
              "    .dataframe tbody tr th {\n",
              "        vertical-align: top;\n",
              "    }\n",
              "\n",
              "    .dataframe thead th {\n",
              "        text-align: right;\n",
              "    }\n",
              "</style>\n",
              "<table border=\"1\" class=\"dataframe\">\n",
              "  <thead>\n",
              "    <tr style=\"text-align: right;\">\n",
              "      <th></th>\n",
              "      <th>Account</th>\n",
              "      <th>Opportunity_ID</th>\n",
              "      <th>Sales_Agent</th>\n",
              "      <th>Product</th>\n",
              "      <th>Close_Date</th>\n",
              "      <th>Close_Value</th>\n",
              "      <th>Created_On</th>\n",
              "    </tr>\n",
              "  </thead>\n",
              "  <tbody>\n",
              "    <tr>\n",
              "      <th>0</th>\n",
              "      <td>d14b92fcb4</td>\n",
              "      <td>df02ddffd3</td>\n",
              "      <td>Donn Cantrell</td>\n",
              "      <td>GTXBasic</td>\n",
              "      <td>2017-05-06</td>\n",
              "      <td>0.0</td>\n",
              "      <td>2017-04-25</td>\n",
              "    </tr>\n",
              "    <tr>\n",
              "      <th>3</th>\n",
              "      <td>6dc8265305</td>\n",
              "      <td>492d7e2bcd</td>\n",
              "      <td>Niesha Huffines</td>\n",
              "      <td>GTXBasic</td>\n",
              "      <td>2017-06-29</td>\n",
              "      <td>1000.0</td>\n",
              "      <td>2017-03-21</td>\n",
              "    </tr>\n",
              "    <tr>\n",
              "      <th>4</th>\n",
              "      <td>6dc8265305</td>\n",
              "      <td>2ba03a10c3</td>\n",
              "      <td>Kami Bicknell</td>\n",
              "      <td>MGRPFU</td>\n",
              "      <td>2017-08-05</td>\n",
              "      <td>5000.0</td>\n",
              "      <td>2017-05-12</td>\n",
              "    </tr>\n",
              "    <tr>\n",
              "      <th>5</th>\n",
              "      <td>70c4dbe27c</td>\n",
              "      <td>5bf1023f83</td>\n",
              "      <td>Versie Hillebrand</td>\n",
              "      <td>MGRPFS</td>\n",
              "      <td>2017-05-26</td>\n",
              "      <td>0.0</td>\n",
              "      <td>2017-04-13</td>\n",
              "    </tr>\n",
              "    <tr>\n",
              "      <th>6</th>\n",
              "      <td>571be6992b</td>\n",
              "      <td>976428a94c</td>\n",
              "      <td>Kami Bicknell</td>\n",
              "      <td>GTXPlusBasic</td>\n",
              "      <td>2017-11-14</td>\n",
              "      <td>1000.0</td>\n",
              "      <td>2017-11-13</td>\n",
              "    </tr>\n",
              "    <tr>\n",
              "      <th>7</th>\n",
              "      <td>a368f600ff</td>\n",
              "      <td>542bf555f7</td>\n",
              "      <td>Kary Hendrixson</td>\n",
              "      <td>GTXBasic</td>\n",
              "      <td>2017-07-08</td>\n",
              "      <td>1000.0</td>\n",
              "      <td>2017-06-28</td>\n",
              "    </tr>\n",
              "    <tr>\n",
              "      <th>10</th>\n",
              "      <td>e88aac41df</td>\n",
              "      <td>0ed25fa963</td>\n",
              "      <td>Anna Snelling</td>\n",
              "      <td>MGRPFU</td>\n",
              "      <td>2017-10-23</td>\n",
              "      <td>4000.0</td>\n",
              "      <td>2017-07-18</td>\n",
              "    </tr>\n",
              "    <tr>\n",
              "      <th>11</th>\n",
              "      <td>dcb5b77ec7</td>\n",
              "      <td>38d938f802</td>\n",
              "      <td>Kary Hendrixson</td>\n",
              "      <td>GTXPlusPro</td>\n",
              "      <td>2017-10-07</td>\n",
              "      <td>5000.0</td>\n",
              "      <td>2017-08-11</td>\n",
              "    </tr>\n",
              "    <tr>\n",
              "      <th>13</th>\n",
              "      <td>6910fd4f9c</td>\n",
              "      <td>ce7356fe13</td>\n",
              "      <td>Kary Hendrixson</td>\n",
              "      <td>GTXPro</td>\n",
              "      <td>2017-05-05</td>\n",
              "      <td>5000.0</td>\n",
              "      <td>2017-02-01</td>\n",
              "    </tr>\n",
              "    <tr>\n",
              "      <th>14</th>\n",
              "      <td>3e2507e04a</td>\n",
              "      <td>feac9db149</td>\n",
              "      <td>James Ascencio</td>\n",
              "      <td>GTXPlusBasic</td>\n",
              "      <td>2017-06-26</td>\n",
              "      <td>1000.0</td>\n",
              "      <td>2017-04-24</td>\n",
              "    </tr>\n",
              "  </tbody>\n",
              "</table>\n",
              "</div>"
            ],
            "text/plain": [
              "       Account Opportunity_ID  ... Close_Value Created_On\n",
              "0   d14b92fcb4     df02ddffd3  ...         0.0 2017-04-25\n",
              "3   6dc8265305     492d7e2bcd  ...      1000.0 2017-03-21\n",
              "4   6dc8265305     2ba03a10c3  ...      5000.0 2017-05-12\n",
              "5   70c4dbe27c     5bf1023f83  ...         0.0 2017-04-13\n",
              "6   571be6992b     976428a94c  ...      1000.0 2017-11-13\n",
              "7   a368f600ff     542bf555f7  ...      1000.0 2017-06-28\n",
              "10  e88aac41df     0ed25fa963  ...      4000.0 2017-07-18\n",
              "11  dcb5b77ec7     38d938f802  ...      5000.0 2017-08-11\n",
              "13  6910fd4f9c     ce7356fe13  ...      5000.0 2017-02-01\n",
              "14  3e2507e04a     feac9db149  ...      1000.0 2017-04-24\n",
              "\n",
              "[10 rows x 7 columns]"
            ]
          },
          "metadata": {},
          "execution_count": 20
        }
      ]
    },
    {
      "cell_type": "code",
      "metadata": {
        "id": "947d7d41"
      },
      "source": [
        ""
      ],
      "id": "947d7d41",
      "execution_count": null,
      "outputs": []
    }
  ]
}